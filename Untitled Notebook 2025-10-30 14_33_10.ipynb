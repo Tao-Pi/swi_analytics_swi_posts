{
 "cells": [
  {
   "cell_type": "code",
   "execution_count": 0,
   "metadata": {
    "application/vnd.databricks.v1+cell": {
     "cellMetadata": {
      "byteLimit": 2048000,
      "rowLimit": 10000
     },
     "collapsed": true,
     "inputWidgets": {},
     "nuid": "da99e4a0-1d1c-4518-8df1-b4ee272e3ba4",
     "showTitle": false,
     "tableResultSettingsMap": {},
     "title": ""
    }
   },
   "outputs": [],
   "source": [
    "from pyspark.sql.functions import regexp_replace, concat, lit\n",
    "\n",
    "# Read the payload text file into a Spark DataFrame\n",
    "payload = spark.read.text(\"/Volumes/swi_audience_prd/swi-posts/payloads/7455.728927.txt\")\n",
    "\n",
    "# Replace all occurrences of \"false\" with \"False\" in the 'value' column\n",
    "payload = payload.withColumn(\"value\", regexp_replace(\"value\", \"false\", \"False\"))\n",
    "\n",
    "# Convert the original payload DataFrame to a pandas DataFrame and then to a dictionary\n",
    "payload = payload.toPandas().to_dict('list')"
   ]
  },
  {
   "cell_type": "code",
   "execution_count": 0,
   "metadata": {
    "application/vnd.databricks.v1+cell": {
     "cellMetadata": {
      "byteLimit": 2048000,
      "rowLimit": 10000
     },
     "inputWidgets": {},
     "nuid": "403594de-98b3-4081-9d27-1f089486723e",
     "showTitle": false,
     "tableResultSettingsMap": {},
     "title": ""
    }
   },
   "outputs": [],
   "source": [
    "import requests\n",
    "import os\n",
    "import json\n",
    "import time  # Add this import\n",
    "\n",
    "# Zugangsdaten (SECRET_SCOPE = \"swi-secret-scope\"\n",
    "# Für Hilfe: Keller, Pascal (SRF) oder hier: https://github.com/mmz-srf/swi-analytics-databricks/blob/main/intelligence.eu.mapp.com_analysis-query_7455/Secret%20management%20in%20databricks.ipynb)\n",
    "SECRET_SCOPE = \"swi-secret-scope\"\n",
    "user   = dbutils.secrets.get(SECRET_SCOPE, \"mapp-user\")\n",
    "secret = dbutils.secrets.get(SECRET_SCOPE, \"mapp-secret\")\n",
    "try:\n",
    "    baseurl = dbutils.secrets.get(SECRET_SCOPE, \"mapp-baseurl\")\n",
    "except:\n",
    "    baseurl = \"https://intelligence.eu.mapp.com\"\n",
    "\n",
    "token_file = 'mapp_token.json'\n",
    "\n",
    "# Prüfen, ob bereits ein Token existiert und ob es noch gültig ist\n",
    "def get_token():\n",
    "    # Prüfen, ob bereits ein Token existiert und ob es noch gültig ist\n",
    "    if os.path.exists(token_file):\n",
    "        with open(token_file, 'r') as f:\n",
    "            data = json.load(f)\n",
    "            token = data.get('access_token')\n",
    "            expires_at = data.get('expires_at')\n",
    "            if token and expires_at and time.time() < expires_at:\n",
    "                return token  # ⏳ Noch gültig\n",
    "\n",
    "    # 🆕 Token holen\n",
    "    auth_url = f\"{baseurl}/analytics/api/oauth/token\"\n",
    "    querystring = {\"grant_type\": \"client_credentials\", \"scope\": \"mapp.intelligence-api\"}\n",
    "    response = requests.post(auth_url, auth=(user, secret), params=querystring)\n",
    "    response.raise_for_status()\n",
    "    result = response.json()\n",
    "    token = result['access_token']\n",
    "    expires_in = result.get('expires_in', 3600)  # meist 3600 Sekunden\n",
    "    expires_at = time.time() + expires_in - 60   # etwas Puffer\n",
    "\n",
    "    # Token speichern für später\n",
    "    with open(token_file, 'w') as f:\n",
    "        json.dump({'access_token': token, 'expires_at': expires_at}, f)\n",
    "\n",
    "    return token\n",
    "\n",
    "# Token abrufen\n",
    "token = get_token()"
   ]
  },
  {
   "cell_type": "code",
   "execution_count": 0,
   "metadata": {
    "application/vnd.databricks.v1+cell": {
     "cellMetadata": {
      "byteLimit": 2048000,
      "rowLimit": 10000
     },
     "inputWidgets": {},
     "nuid": "30565490-8306-4747-bf53-8efb341b9b78",
     "showTitle": false,
     "tableResultSettingsMap": {},
     "title": ""
    }
   },
   "outputs": [],
   "source": [
    "import requests\n",
    "import time\n",
    "from pyspark.sql import SparkSession\n",
    "from pyspark.sql.functions import regexp_replace\n",
    "\n",
    "# SparkSession holen\n",
    "spark = SparkSession.builder.getOrCreate()\n",
    "\n",
    "# Auth-Header\n",
    "headers = {\n",
    "    'Authorization': f'Bearer {token}',\n",
    "    'Content-Type': 'application/json'\n",
    "}\n",
    "\n",
    "# API Query\n",
    "url = f\"{baseurl}/analytics/api/analysis-query\"\n",
    "response = requests.post(url, headers=headers, json=payload)\n",
    "result = response.json()\n",
    "\n",
    "resultUrl = result.get(\"resultUrl\")\n",
    "statusUrl = result.get(\"statusUrl\") if result.get(\"statusUrl\") else None\n",
    "\n",
    "# ggf. warten\n",
    "tries = 0\n",
    "while not resultUrl and tries < 10:\n",
    "    time.sleep(10)\n",
    "    status_response = requests.get(statusUrl, headers=headers)\n",
    "    result = status_response.json()\n",
    "    resultUrl = result.get(\"resultUrl\")\n",
    "    tries += 1\n",
    "\n",
    "if not resultUrl:\n",
    "    print(\"❌ Kein Ergebnis nach mehreren Versuchen.\")\n",
    "else:\n",
    "    result_data = requests.get(resultUrl, headers=headers).json()\n",
    "\n",
    "    # Spaltennamen und Zeilen extrahieren\n",
    "    headers_out = [col[\"name\"] for col in result_data[\"headers\"]]\n",
    "    rows = result_data[\"rows\"]\n",
    "\n",
    "    # DataFrame erstellen\n",
    "    df = spark.createDataFrame(rows, headers_out)\n",
    "\n",
    "   \n",
    "    \n",
    "    # 🔻 Letzte Zeile entfernen\n",
    "    row_count = df.count()\n",
    "    if row_count > 1:\n",
    "        df = df.limit(row_count - 1)\n",
    "    else:\n",
    "        print(\"⚠️ Zu wenige Zeilen zum Kürzen.\")\n",
    "\n",
    "    # Ergebnisse anzeigen (optional)\n",
    "    display(df)"
   ]
  }
 ],
 "metadata": {
  "application/vnd.databricks.v1+notebook": {
   "computePreferences": null,
   "dashboards": [],
   "environmentMetadata": {
    "base_environment": "",
    "environment_version": "4"
   },
   "inputWidgetPreferences": null,
   "language": "python",
   "notebookMetadata": {
    "pythonIndentUnit": 4
   },
   "notebookName": "Untitled Notebook 2025-10-30 14_33_10",
   "widgets": {}
  },
  "language_info": {
   "name": "python"
  }
 },
 "nbformat": 4,
 "nbformat_minor": 0
}
